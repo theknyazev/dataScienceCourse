{
 "cells": [
  {
   "cell_type": "markdown",
   "metadata": {},
   "source": [
    "# Базовые основы Python, виды графиков в Matplotlib и азы Pandas\n",
    "\n",
    "Этот ноутбук предназначен для тех, кто никогда не работал с Python, но хочет разобраться с основами за пару часов.\n",
    "\n",
    "## Содержание\n",
    "1. [Введение](#intro)  \n",
    "2. [Основы Python](#python_basics)  \n",
    "    1. [Переменные, типы данных, вывод](#variables)  \n",
    "    2. [Условные операторы, циклы](#conditions_loops)  \n",
    "    3. [Функции](#functions)  \n",
    "3. [Построение графиков с Matplotlib](#matplotlib)  \n",
    "    1. [Линейный график](#line_plot)  \n",
    "    2. [Диаграмма рассеяния (scatter plot)](#scatter_plot)  \n",
    "    3. [Столбиковая диаграмма (bar plot) и гистограмма (histogram)](#bar_hist)  \n",
    "4. [Основы Pandas](#pandas)  \n",
    "    1. [Создание и работа с DataFrame](#dataframe)  \n",
    "    2. [Чтение файлов и базовые операции](#reading_files)  \n",
    "    3. [Описательная статистика и простые графики](#basic_stats)  \n",
    "5. [Заключение](#conclusion)  \n"
   ]
  },
  {
   "cell_type": "markdown",
   "metadata": {},
   "source": [
    "# 1. Введение <a name=\"intro\"></a>\n",
    "\n",
    "В этом ноутбуке мы познакомимся с основами языка программирования **Python**, научимся строить графики с помощью библиотеки **Matplotlib**, а также освоим базовые приёмы работы с данными в библиотеке **Pandas**. Если вы ранее не программировали, не переживайте: мы разберёмся с самыми главными концепциями и попробуем сразу применять их на практике.\n",
    "\n",
    "> **Совет**: Чтобы выполнить код в ячейках Google Colab:\n",
    "> 1. Кликните внутри ячейки с кодом.\n",
    "> 2. Нажмите кнопку «▶» слева от ячейки или используйте сочетание клавиш `Shift+Enter`.\n"
   ]
  },
  {
   "cell_type": "markdown",
   "metadata": {},
   "source": [
    "# 2. Основы Python <a name=\"python_basics\"></a>"
   ]
  },
  {
   "cell_type": "markdown",
   "metadata": {},
   "source": [
    "## 2.1 Переменные, типы данных, вывод <a name=\"variables\"></a>\n",
    "\n",
    "В Python не нужно объявлять переменную заранее — она создаётся при первом присвоении. Давайте рассмотрим примеры базовых типов данных: **числа** (int, float), **строки** (str), **логические значения** (bool)."
   ]
  },
  {
   "cell_type": "code",
   "metadata": {},
   "source": [
    "# Пример 1: вывод в консоль\n",
    "print(\"Hello, world!\")"
   ],
   "execution_count": null,
   "outputs": []
  },
  {
   "cell_type": "code",
   "metadata": {},
   "source": [
    "# Пример 2: переменные, числа и строки\n",
    "x = 10                # целое число (int)\n",
    "pi = 3.14             # число с плавающей точкой (float)\n",
    "name = \"Alice\"        # строка (str)\n",
    "is_student = True     # логическое значение (bool)\n",
    "\n",
    "print(\"x =\", x)\n",
    "print(\"pi =\", pi)\n",
    "print(\"name =\", name)\n",
    "print(\"is_student =\", is_student)"
   ],
   "execution_count": null,
   "outputs": []
  },
  {
   "cell_type": "markdown",
   "metadata": {},
   "source": [
    "### Упражнение 1\n",
    "1. Создайте переменную `my_age` и присвойте ей ваш возраст (целое число).  \n",
    "2. Создайте переменную `my_height` и присвойте ей ваш рост (число с плавающей точкой).  \n",
    "3. Выведите обе переменные, используя функцию `print()`.\n",
    "\n",
    "**Пример кода** (раскомментируйте и заполните сами):"
   ]
  },
  {
   "cell_type": "code",
   "metadata": {},
   "source": [
    "# my_age = ...\n",
    "# my_height = ...\n",
    "\n",
    "# print(\"Мой возраст:\", my_age)\n",
    "# print(\"Мой рост:\", my_height)"
   ],
   "execution_count": null,
   "outputs": []
  },
  {
   "cell_type": "markdown",
   "metadata": {},
   "source": [
    "---\n",
    "## 2.2 Условные операторы, циклы <a name=\"conditions_loops\"></a>\n",
    "\n",
    "### Условные операторы `if`, `elif`, `else`\n",
    "Условные операторы позволяют выполнять определённый код только при соблюдении некоторого условия."
   ]
  },
  {
   "cell_type": "code",
   "metadata": {},
   "source": [
    "age = 20\n",
    "\n",
    "if age < 18:\n",
    "    print(\"Несовершеннолетний\")\n",
    "elif age < 65:\n",
    "    print(\"Взрослый\")\n",
    "else:\n",
    "    print(\"Пожилой человек\")"
   ],
   "execution_count": null,
   "outputs": []
  },
  {
   "cell_type": "markdown",
   "metadata": {},
   "source": [
    "### Циклы `for` и `while`\n",
    "Циклы упрощают повторение однотипных операций."
   ]
  },
  {
   "cell_type": "code",
   "metadata": {},
   "source": [
    "# Пример: цикл for\n",
    "numbers = [1, 2, 3, 4, 5]\n",
    "for num in numbers:\n",
    "    print(num, num**2)"
   ],
   "execution_count": null,
   "outputs": []
  },
  {
   "cell_type": "code",
   "metadata": {},
   "source": [
    "# Пример: цикл while\n",
    "count = 0\n",
    "while count < 5:\n",
    "    print(\"Count is:\", count)\n",
    "    count += 1"
   ],
   "execution_count": null,
   "outputs": []
  },
  {
   "cell_type": "markdown",
   "metadata": {},
   "source": [
    "### Упражнение 2\n",
    "1. Напишите цикл `for`, который выводит квадраты чисел от 1 до 10.  \n",
    "2. С помощью цикла `while` выведите только нечётные числа от 1 до 10."
   ]
  },
  {
   "cell_type": "markdown",
   "metadata": {},
   "source": [
    "---\n",
    "## 2.3 Функции <a name=\"functions\"></a>\n",
    "\n",
    "Функции помогают структурировать код, делая его повторно используемым и читабельным."
   ]
  },
  {
   "cell_type": "code",
   "metadata": {},
   "source": [
    "def greet_user(name):\n",
    "    \"\"\"\n",
    "    Функция выводит приветственное сообщение,\n",
    "    принимая на вход имя пользователя.\n",
    "    \"\"\"\n",
    "    print(f\"Привет, {name}!\")\n",
    "\ngreet_user(\"Татьяна\")"
   ],
   "execution_count": null,
   "outputs": []
  },
  {
   "cell_type": "code",
   "metadata": {},
   "source": [
    "def add_numbers(a, b):\n",
    "    return a + b\n",
    "\n",
    "result = add_numbers(5, 7)\n",
    "print(\"Результат сложения:\", result)"
   ],
   "execution_count": null,
   "outputs": []
  },
  {
   "cell_type": "markdown",
   "metadata": {},
   "source": [
    "### Упражнение 3\n",
    "1. Создайте функцию `multiply_numbers(a, b)`, которая принимает два числа и возвращает их произведение.  \n",
    "2. Вызовите функцию с любыми аргументами и выведите результат."
   ]
  },
  {
   "cell_type": "markdown",
   "metadata": {},
   "source": [
    "# 3. Построение графиков с Matplotlib <a name=\"matplotlib\"></a>\n",
    "\n",
    "[Matplotlib](https://matplotlib.org/) — одна из наиболее популярных библиотек для визуализации данных в Python. С её помощью можно строить практически любые графики.\n",
    "\n",
    "Для начала импортируем библиотеку:"
   ]
  },
  {
   "cell_type": "code",
   "metadata": {},
   "source": [
    "import matplotlib.pyplot as plt\n",
    "import numpy as np  # NumPy пригодится для генерации данных"
   ],
   "execution_count": null,
   "outputs": []
  },
  {
   "cell_type": "markdown",
   "metadata": {},
   "source": [
    "## 3.1 Линейный график <a name=\"line_plot\"></a>\n",
    "\n",
    "Создадим простые данные и отобразим их на линейном графике:"
   ]
  },
  {
   "cell_type": "code",
   "metadata": {},
   "source": [
    "# Создадим массив из 10 точек от 0 до 9\n",
    "x = np.arange(10)\n",
    "y = x ** 2\n",
    "\n",
    "plt.plot(x, y, marker='o', linestyle='-', color='b', label='y = x^2')\n",
    "plt.title(\"Линейный график (y = x^2)\")\n",
    "plt.xlabel(\"x\")\n",
    "plt.ylabel(\"y\")\n",
    "plt.legend()\n",
    "plt.grid(True)\n",
    "plt.show()"
   ],
   "execution_count": null,
   "outputs": []
  },
  {
   "cell_type": "markdown",
   "metadata": {},
   "source": [
    "## 3.2 Диаграмма рассеяния (scatter plot) <a name=\"scatter_plot\"></a>\n",
    "\n",
    "Диаграмма рассеяния удобно показывает взаимосвязь между двумя наборами чисел."
   ]
  },
  {
   "cell_type": "code",
   "metadata": {},
   "source": [
    "# Генерируем случайные данные\n",
    "np.random.seed(42)\n",
    "x_scatter = np.random.rand(50)\n",
    "y_scatter = np.random.rand(50)\n",
    "\n",
    "plt.scatter(x_scatter, y_scatter, color='red', label='Random Points')\n",
    "plt.title(\"Диаграмма рассеяния (Scatter Plot)\")\n",
    "plt.xlabel(\"X\")\n",
    "plt.ylabel(\"Y\")\n",
    "plt.legend()\n",
    "plt.show()"
   ],
   "execution_count": null,
   "outputs": []
  },
  {
   "cell_type": "markdown",
   "metadata": {},
   "source": [
    "## 3.3 Столбиковая диаграмма (bar plot) и гистограмма (histogram) <a name=\"bar_hist\"></a>\n",
    "\n",
    "**Столбиковая диаграмма**:"
   ]
  },
  {
   "cell_type": "code",
   "metadata": {},
   "source": [
    "labels = ['A', 'B', 'C', 'D']\n",
    "values = [10, 24, 36, 18]\n",
    "\n",
    "plt.bar(labels, values, color=['blue', 'green', 'orange', 'red'])\n",
    "plt.title(\"Столбиковая диаграмма\")\n",
    "plt.xlabel(\"Категории\")\n",
    "plt.ylabel(\"Значения\")\n",
    "plt.show()"
   ],
   "execution_count": null,
   "outputs": []
  },
  {
   "cell_type": "markdown",
   "metadata": {},
   "source": [
    "**Гистограмма** (распределение значений):"
   ]
  },
  {
   "cell_type": "code",
   "metadata": {},
   "source": [
    "data = np.random.randn(1000)  # Генерируем 1000 значений из нормального распределения\n",
    "plt.hist(data, bins=30, color='purple', edgecolor='black')\n",
    "plt.title(\"Гистограмма\")\n",
    "plt.xlabel(\"Значение\")\n",
    "plt.ylabel(\"Частота\")\n",
    "plt.show()"
   ],
   "execution_count": null,
   "outputs": []
  },
  {
   "cell_type": "markdown",
   "metadata": {},
   "source": [
    "# 4. Основы Pandas <a name=\"pandas\"></a>\n",
    "\n",
    "[Pandas](https://pandas.pydata.org/) — ключевая библиотека Python для работы с табличными данными. Основная структура данных в Pandas — это `DataFrame`."
   ]
  },
  {
   "cell_type": "code",
   "metadata": {},
   "source": [
    "import pandas as pd"
   ],
   "execution_count": null,
   "outputs": []
  },
  {
   "cell_type": "markdown",
   "metadata": {},
   "source": [
    "## 4.1 Создание и работа с DataFrame <a name=\"dataframe\"></a>\n",
    "\n",
    "Создадим DataFrame из словаря Python:"
   ]
  },
  {
   "cell_type": "code",
   "metadata": {},
   "source": [
    "data = {\n",
    "    'Name': ['Alice', 'Bob', 'Charlie', 'Diana'],\n",
    "    'Age': [24, 30, 18, 35],\n",
    "    'City': ['New York', 'Moscow', 'Berlin', 'Tokyo']\n",
    "}\n",
    "\n",
    "df = pd.DataFrame(data)\n",
    "df"
   ],
   "execution_count": null,
   "outputs": []
  },
  {
   "cell_type": "markdown",
   "metadata": {},
   "source": [
    "## 4.2 Чтение файлов и базовые операции <a name=\"reading_files\"></a>\n",
    "\n",
    "Обычно данные хранятся в CSV или Excel-файлах. Предположим, у нас есть файл `data.csv` в той же папке. Тогда можно прочитать его так:\n",
    "```python\n",
    "# df_csv = pd.read_csv(\"data.csv\")\n",
    "# df_csv.head()  # Показываем первые 5 строк\n",
    "```\n",
    "\n",
    "**Базовые методы** для DataFrame:"
   ]
  },
  {
   "cell_type": "code",
   "metadata": {},
   "source": [
    "print(df.info())      # общая информация о столбцах и типах данных\n",
    "print(df.describe())  # описательная статистика для числовых столбцов\n",
    "print(df.columns)     # список столбцов\n",
    "print(df.shape)       # размер таблицы (строки, столбцы)"
   ],
   "execution_count": null,
   "outputs": []
  },
  {
   "cell_type": "markdown",
   "metadata": {},
   "source": [
    "### Индексация и выборка"
   ]
  },
  {
   "cell_type": "code",
   "metadata": {},
   "source": [
    "# Выбрать один столбец:\n",
    "ages = df['Age']\n",
    "\n",
    "# Выбрать несколько столбцов:\n",
    "subset = df[['Name', 'Age']]\n",
    "\n",
    "# Фильтрация по условию (люди старше 20):\n",
    "older_20 = df[df['Age'] > 20]\n",
    "\n",
    "older_20"
   ],
   "execution_count": null,
   "outputs": []
  },
  {
   "cell_type": "markdown",
   "metadata": {},
   "source": [
    "## 4.3 Описательная статистика и простые графики <a name=\"basic_stats\"></a>\n",
    "\n",
    "Для числовых столбцов можно быстро получить средние, медиану, минимум/максимум и т.д.:"
   ]
  },
  {
   "cell_type": "code",
   "metadata": {},
   "source": [
    "print(\"Средний возраст:\", df['Age'].mean())\n",
    "print(\"Максимальный возраст:\", df['Age'].max())"
   ],
   "execution_count": null,
   "outputs": []
  },
  {
   "cell_type": "markdown",
   "metadata": {},
   "source": [
    "### Построение графиков средствами Pandas\n",
    "Pandas умеет строить простые графики «из коробки», используя Matplotlib:"
   ]
  },
  {
   "cell_type": "code",
   "metadata": {},
   "source": [
    "df['Age'].plot(kind='hist', bins=5, title='Распределение возрастов')\n",
    "plt.xlabel(\"Возраст\")\n",
    "plt.show()"
   ],
   "execution_count": null,
   "outputs": []
  },
  {
   "cell_type": "markdown",
   "metadata": {},
   "source": [
    "> **Важно:** Для более тонкой кастомизации графиков удобнее использовать Matplotlib напрямую (или другие библиотеки вроде Seaborn)."
   ]
  },
  {
   "cell_type": "markdown",
   "metadata": {},
   "source": [
    "# 5. Заключение <a name=\"conclusion\"></a>\n",
    "\n",
    "Поздравляем! Вы прошли экспресс-знакомство с:\n",
    "1. **Базовыми конструкциями Python** (переменные, типы данных, условия, циклы, функции).  \n",
    "2. **Построением графиков** при помощи библиотеки Matplotlib (линейные графики, scatter plot, столбиковые диаграммы, гистограммы).  \n",
    "3. **Работой с таблицами** в Pandas (создание DataFrame, чтение данных, базовые методы анализа и визуализации).\n",
    "\n",
    "### Куда двигаться дальше?\n",
    "- Изучить **конструкции Python** глубже: списки, словари, кортежи, множества, генераторы, ООП и др.  \n",
    "- Попробовать расширенные возможности **Matplotlib** (подписи, стили, subplot'ы).  \n",
    "- Изучить **Pandas** подробнее: группировки (`groupby`), слияние/соединение таблиц (`merge`, `join`), сводные таблицы (`pivot_table`) и т.д.  \n",
    "- Обратить внимание на другие библиотеки для визуализации, например, **Seaborn**, **Plotly**.\n",
    "\n",
    "Удачи в дальнейшем обучении и экспериментах с данными!\n",
    "\n",
    "---\n",
    "## Дополнительно\n",
    "- [Официальная документация по Python](https://docs.python.org/3/)  \n",
    "- [Документация по NumPy](https://numpy.org/doc/)  \n",
    "- [Документация по Matplotlib](https://matplotlib.org/stable/contents.html)  \n",
    "- [Документация по Pandas](https://pandas.pydata.org/docs/)\n",
    "\n",
    "---\n",
    "**Сохраните этот ноутбук на Google Drive**, чтобы вернуться к нему в любой момент, а также делитесь им с коллегами и друзьями, которые хотят быстро освоить основы Python.\n",
    "\n",
    "Если есть вопросы — задавайте! Хорошего обучения."
   ]
  }
 ],
 "metadata": {
  "colab": {
   "name": "intro_python_matplotlib_pandas.ipynb",
   "provenance": []
  },
  "kernelspec": {
   "display_name": "Python 3",
   "language": "python",
   "name": "python3"
  },
  "language_info": {
   "name": "python",
   "version": "3.x"
  }
 },
 "nbformat": 4,
 "nbformat_minor": 1
}
