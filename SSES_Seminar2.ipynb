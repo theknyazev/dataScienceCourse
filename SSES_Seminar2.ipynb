{
 "cells": [
  {
   "cell_type": "markdown",
   "metadata": {},
   "source": [
    "# Урок по Pandas на примере Titanic Dataset\n",
    "\n",
    "В этом ноутбуке мы познакомимся с **основными функциями и приёмами работы** в библиотеке [Pandas](https://pandas.pydata.org/). \n",
    "\n",
    "В качестве примера будем использовать знаменитый датасет **Titanic**, содержащий информацию о пассажирах «Титаника» (пол, возраст, класс билета, порт отправления и т.д.), а также о том, выжили они или нет.\n",
    "\n",
    "## Содержание\n",
    "1. [Загрузка данных](#load_data)\n",
    "2. [Описание столбцов](#columns_description)\n",
    "3. [Базовое исследование DataFrame](#basic_exploration)\n",
    "4. [Работа с пропущенными значениями](#missing_values)\n",
    "5. [Фильтрация и группировка](#filter_groupby)\n",
    "6. [Основные операции с DataFrame](#df_operations)\n",
    "7. [Простая визуализация](#visualization)\n",
    "8. [Дополнительные упражнения](#exercises)\n",
    "9. [Заключение](#conclusion)\n",
    "\n",
    "> **Примечание**: в данном ноутбуке мы рассматриваем только часть возможностей Pandas. Для более углублённого изучения обратите внимание на раздел «Дополнительно» в конце."
   ]
  },
  {
   "cell_type": "markdown",
   "metadata": {},
   "source": [
    "# 1. Загрузка данных <a name=\"load_data\"></a>\n",
    "\n",
    "Для начала импортируем Pandas, а также другие библиотеки, которые могут понадобиться (например, Matplotlib). Затем загрузим датасет Titanic.\n",
    "\n",
    "Если у вас уже есть файл `titanic.csv` в той же папке, можно прочитать его командой `pd.read_csv('titanic.csv')`. \n",
    "\n",
    "Если вы используете Google Colab и хотите загрузить файл из своего компьютера:\n",
    "1. Нажмите на иконку «папка» слева (раздел *Files*).\n",
    "2. Нажмите кнопку «Upload to session storage» (или аналогичную) и выберите `titanic.csv`.\n",
    "3. Используйте `pd.read_csv('titanic.csv')` для чтения.\n",
    "\n",
    "Другие способы: подключиться к Google Drive или скачать CSV по ссылке, если он доступен."
   ]
  },
  {
   "cell_type": "code",
   "metadata": {},
   "source": [
    "import pandas as pd\n",
    "import matplotlib.pyplot as plt\n",
    "import numpy as np\n",
    "\n",
    "# Предположим, что файл 'titanic.csv' уже загружен в окружение.\n",
    "# Если файл расположен в другой папке, укажите путь, например:\n",
    "# df = pd.read_csv('/content/drive/MyDrive/titanic.csv')\n",
    "\n",
    "df = pd.read_csv('titanic.csv')  # Измените путь, если требуется\n",
    "\n",
    "# Узнаем форму (размер) DataFrame:\n",
    "print(\"Форма DataFrame (строки, столбцы):\", df.shape)\n",
    "\n",
    "# Посмотрим на первые 5 строк, чтобы увидеть структуру:\n",
    "df.head()"
   ],
   "execution_count": null,
   "outputs": []
  },
  {
   "cell_type": "markdown",
   "metadata": {},
   "source": [
    "# 2. Описание столбцов <a name=\"columns_description\"></a>\n",
    "\n",
    "Ниже кратко описано, за что отвечает каждый столбец в датасете:\n",
    "\n",
    "- **PassengerId**: Идентификатор пассажира\n",
    "- **Survived**: Факт выживания (0 = нет, 1 = да)\n",
    "- **Pclass**: Класс билета (1 = 1-й класс, 2 = 2-й класс, 3 = 3-й класс) — часто используется как признак социально-экономического статуса\n",
    "- **Name**: Имя пассажира\n",
    "- **Sex**: Пол (male, female)\n",
    "- **Age**: Возраст (в годах)\n",
    "- **SibSp**: Количество братьев/сестёр или супругов на борту\n",
    "- **Parch**: Количество родителей или детей на борту\n",
    "- **Ticket**: Номер билета\n",
    "- **Fare**: Стоимость билета\n",
    "- **Cabin**: Номер каюты\n",
    "- **Embarked**: Порт посадки (C = Cherbourg, Q = Queenstown, S = Southampton)\n",
    "\n",
    "С этими признаками мы и будем работать для иллюстрации возможностей Pandas."
   ]
  },
  {
   "cell_type": "markdown",
   "metadata": {},
   "source": [
    "# 3. Базовое исследование DataFrame <a name=\"basic_exploration\"></a>\n",
    "\n",
    "После загрузки данных важно понять, какие у нас есть столбцы, какие типы данных, есть ли пропущенные значения и т.д. Для этого в Pandas есть несколько удобных методов."
   ]
  },
  {
   "cell_type": "code",
   "metadata": {},
   "source": [
    "# Общая информация об объёмах и типах данных:\n",
    "df.info()"
   ],
   "execution_count": null,
   "outputs": []
  },
  {
   "cell_type": "markdown",
   "metadata": {},
   "source": [
    "`info()` показывает, сколько всего строк (Non-Null Count), где есть пропуски, а также типы столбцов.\n",
    "\n",
    "Другой важный метод — `describe()`, который даёт базовую статистику по числовым данным."
   ]
  },
  {
   "cell_type": "code",
   "metadata": {},
   "source": [
    "df.describe()"
   ],
   "execution_count": null,
   "outputs": []
  },
  {
   "cell_type": "markdown",
   "metadata": {},
   "source": [
    "Можно также посмотреть на названия столбцов и, например, на количество уникальных значений."
   ]
  },
  {
   "cell_type": "code",
   "metadata": {},
   "source": [
    "print(\"Столбцы:\", df.columns.tolist())\n",
    "print(\"\\nКоличество уникальных значений в каждом столбце:\")\n",
    "for col in df.columns:\n",
    "    unique_count = df[col].nunique()\n",
    "    print(f\"{col}: {unique_count}\")"
   ],
   "execution_count": null,
   "outputs": []
  },
  {
   "cell_type": "markdown",
   "metadata": {},
   "source": [
    "# 4. Работа с пропущенными значениями <a name=\"missing_values\"></a>\n",
    "\n",
    "В реальных данных часто встречаются пропущенные значения (NaN). Посмотрим, сколько таких значений в каждом столбце:"
   ]
  },
  {
   "cell_type": "code",
   "metadata": {},
   "source": [
    "df.isnull().sum()"
   ],
   "execution_count": null,
   "outputs": []
  },
  {
   "cell_type": "markdown",
   "metadata": {},
   "source": [
    "Видим, что, например, в столбце **Age** и **Cabin** есть пропуски. \n",
    "\n",
    "Способы работы с пропусками:\n",
    "- Удалять строки с `NaN` (но тогда теряем информацию)\n",
    "- Заполнять средним, медианой, либо специальным значением\n",
    "- Пытаться предсказывать пропуски\n",
    "\n",
    "Здесь для примера заполним пропуски по возрасту средним возрастом (не лучший вариант с точки зрения реального анализа, но в качестве иллюстрации)."
   ]
  },
  {
   "cell_type": "code",
   "metadata": {},
   "source": [
    "mean_age = df['Age'].mean()\n",
    "df['Age'].fillna(mean_age, inplace=True)\n",
    "\n",
    "print(\"После заполнения пропусков в Age:\")\n",
    "df.isnull().sum()"
   ],
   "execution_count": null,
   "outputs": []
  },
  {
   "cell_type": "markdown",
   "metadata": {},
   "source": [
    "Так мы убрали пропуски в столбце **Age**, но пропуски в **Cabin** остались — их тоже можно обработать, если нужно.\n"
   ]
  },
  {
   "cell_type": "markdown",
   "metadata": {},
   "source": [
    "# 5. Фильтрация и группировка <a name=\"filter_groupby\"></a>\n",
    "\n",
    "Одно из ключевых достоинств Pandas — гибкая фильтрация и группировка данных."
   ]
  },
  {
   "cell_type": "markdown",
   "metadata": {},
   "source": [
    "## 5.1 Фильтрация (Filtering)\n",
    "\n",
    "Допустим, хотим выбрать только пассажиров, которым меньше 18 лет (дети)."
   ]
  },
  {
   "cell_type": "code",
   "metadata": {},
   "source": [
    "children_df = df[df['Age'] < 18]\n",
    "children_df.head()"
   ],
   "execution_count": null,
   "outputs": []
  },
  {
   "cell_type": "markdown",
   "metadata": {},
   "source": [
    "А теперь выберем только женщин 1-го класса:"
   ]
  },
  {
   "cell_type": "code",
   "metadata": {},
   "source": [
    "women_first_class = df[(df['Sex'] == 'female') & (df['Pclass'] == 1)]\n",
    "women_first_class.head()"
   ],
   "execution_count": null,
   "outputs": []
  },
  {
   "cell_type": "markdown",
   "metadata": {},
   "source": [
    "## 5.2 Группировка (GroupBy)\n",
    "\n",
    "С помощью `groupby()` можно быстро агрегировать данные. Например, посмотрим на средний возраст пассажиров в каждом классе."
   ]
  },
  {
   "cell_type": "code",
   "metadata": {},
   "source": [
    "df.groupby('Pclass')['Age'].mean()"
   ],
   "execution_count": null,
   "outputs": []
  },
  {
   "cell_type": "markdown",
   "metadata": {},
   "source": [
    "А теперь посмотрим на выживаемость (Survived) по полу пассажиров:"
   ]
  },
  {
   "cell_type": "code",
   "metadata": {},
   "source": [
    "df.groupby('Sex')['Survived'].mean()"
   ],
   "execution_count": null,
   "outputs": []
  },
  {
   "cell_type": "markdown",
   "metadata": {},
   "source": [
    "То есть доля выживших женщин и мужчин в нашем датасете."
   ]
  },
  {
   "cell_type": "markdown",
   "metadata": {},
   "source": [
    "# 6. Основные операции с DataFrame <a name=\"df_operations\"></a>\n",
    "\n",
    "Рассмотрим несколько часто используемых операций:\n",
    "- Добавление новых столбцов\n",
    "- Удаление столбцов или строк\n",
    "- Сортировка\n",
    "- Слияние и соединение (merge, join) — в этом ноутбуке лишь кратко упомянем"
   ]
  },
  {
   "cell_type": "markdown",
   "metadata": {},
   "source": [
    "## 6.1 Добавление новых столбцов\n",
    "\n",
    "Например, посчитаем, сколько всего родственников (SibSp + Parch) было у каждого пассажира:"
   ]
  },
  {
   "cell_type": "code",
   "metadata": {},
   "source": [
    "df['Relatives'] = df['SibSp'] + df['Parch']\n",
    "df[['SibSp','Parch','Relatives']].head(10)"
   ],
   "execution_count": null,
   "outputs": []
  },
  {
   "cell_type": "markdown",
   "metadata": {},
   "source": [
    "## 6.2 Удаление столбцов или строк\n",
    "\n",
    "Иногда нужно удалить лишнюю информацию. Например, удалим столбец `Ticket`, предположим, что он нам не нужен:"
   ]
  },
  {
   "cell_type": "code",
   "metadata": {},
   "source": [
    "df.drop(columns='Ticket', inplace=True)\n",
    "df.head(3)"
   ],
   "execution_count": null,
   "outputs": []
  },
  {
   "cell_type": "markdown",
   "metadata": {},
   "source": [
    "## 6.3 Сортировка\n",
    "\n",
    "Можно отсортировать пассажиров по возрасту (по возрастанию):"
   ]
  },
  {
   "cell_type": "code",
   "metadata": {},
   "source": [
    "df_sorted = df.sort_values(by='Age', ascending=True)\n",
    "df_sorted.head(10)"
   ],
   "execution_count": null,
   "outputs": []
  },
  {
   "cell_type": "markdown",
   "metadata": {},
   "source": [
    "# 7. Простая визуализация <a name=\"visualization\"></a>\n",
    "\n",
    "Pandas позволяет быстро строить простые графики на основе данных. Для более сложной визуализации часто используют **Matplotlib** и **Seaborn**."
   ]
  },
  {
   "cell_type": "markdown",
   "metadata": {},
   "source": [
    "## 7.1 Гистограмма возраста\n",
    "\n",
    "Посмотрим распределение возраста пассажиров на гистограмме."
   ]
  },
  {
   "cell_type": "code",
   "metadata": {},
   "source": [
    "df['Age'].plot(kind='hist', bins=20, edgecolor='black', title='Распределение возраста')\n",
    "plt.xlabel('Возраст')\n",
    "plt.show()"
   ],
   "execution_count": null,
   "outputs": []
  },
  {
   "cell_type": "markdown",
   "metadata": {},
   "source": [
    "## 7.2 Диаграмма баров (bar plot) выживаемости по полу\n",
    "\n",
    "Построим столбиковую диаграмму, показывающую долю выживших мужчин и женщин."
   ]
  },
  {
   "cell_type": "code",
   "metadata": {},
   "source": [
    "survival_by_sex = df.groupby('Sex')['Survived'].mean()\n",
    "survival_by_sex.plot(kind='bar', color=['orange','blue'], title='Доля выживших по полу')\n",
    "plt.ylabel('Доля выживших')\n",
    "plt.show()"
   ],
   "execution_count": null,
   "outputs": []
  },
  {
   "cell_type": "markdown",
   "metadata": {},
   "source": [
    "# 8. Дополнительные упражнения <a name=\"exercises\"></a>\n",
    "\n",
    "1. **Проанализируйте выживаемость по классам** (Pclass). Постройте столбиковую диаграмму.\n",
    "2. **Выведите** 10 самых старших пассажиров, которые выжили.\n",
    "3. **Посчитайте** среднюю стоимость билета (Fare) для каждого порта посадки (Embarked).\n",
    "4. **Создайте** новый столбец, который отражает, был ли пассажир в возрасте от 0 до 12 (\"Child\"), от 13 до 19 (\"Teen\") или старше 19 (\"Adult\").\n",
    "5. **Постройте** гистограмму распределения столбца `Relatives` (который мы добавили)."
   ]
  },
  {
   "cell_type": "markdown",
   "metadata": {},
   "source": [
    "# 9. Заключение <a name=\"conclusion\"></a>\n",
    "\n",
    "В этом ноутбуке мы рассмотрели основные методы работы с Pandas:\n",
    "- Загрузка данных (`pd.read_csv`)\n",
    "- Получение базовой информации (`.info()`, `.describe()`, `.head()`, и т.д.)\n",
    "- Фильтрация и группировка (`.groupby()`, условия)\n",
    "- Работа с пропущенными значениями (`isnull()`, `fillna()`)\n",
    "- Создание и удаление столбцов (`df['NewCol'] = ...`, `drop()`)\n",
    "- Сортировка данных (`sort_values()`)\n",
    "- Простейшая визуализация (гистограмма, bar plot)\n",
    "\n",
    "## Куда двигаться дальше?\n",
    "- Изучить **merge**, **join**, **concat** для объединения DataFrame.\n",
    "- Освоить библиотеку **Matplotlib** глубже (или **Seaborn**, **Plotly**) для более продвинутой визуализации.\n",
    "- Практиковаться на разных датасетах (Iris, Wine, Housing).\n",
    "- Изучить методы очистки и подготовки данных (в том числе *feature engineering*).\n",
    "\n",
    "### Полезные ссылки\n",
    "- [Pandas Documentation](https://pandas.pydata.org/docs/)\n",
    "- [Kaggle Datasets](https://www.kaggle.com/datasets) — множество публичных датасетов\n",
    "- [Matplotlib Documentation](https://matplotlib.org/stable/contents.html)\n",
    "- [Seaborn Documentation](https://seaborn.pydata.org/)\n",
    "\n",
    "Удачи в анализе данных!"
   ]
  }
 ],
 "metadata": {
  "colab": {
   "name": "pandas_titanic_lesson.ipynb",
   "provenance": []
  },
  "kernelspec": {
   "display_name": "Python 3",
   "language": "python",
   "name": "python3"
  },
  "language_info": {
   "name": "python",
   "version": "3.x"
  }
 },
 "nbformat": 4,
 "nbformat_minor": 1
}
