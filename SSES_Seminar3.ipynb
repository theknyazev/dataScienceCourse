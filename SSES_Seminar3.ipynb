{
 "cells": [
  {
   "cell_type": "markdown",
   "metadata": {},
   "source": [
    "# Урок по основам Matplotlib\n",
    "\n",
    "В этом ноутбуке мы познакомимся с основами библиотеки [Matplotlib](https://matplotlib.org/), которая является одной из самых популярных библиотек для визуализации данных в Python.\n",
    "\n",
    "## Содержание\n",
    "1. [Введение в Matplotlib](#intro)\n",
    "2. [Линейный график](#line_plot)\n",
    "3. [Диаграмма рассеяния (Scatter Plot)](#scatter_plot)\n",
    "4. [Столбиковая диаграмма и гистограмма](#bar_hist)\n",
    "5. [График с несколькими линиями](#multi_line)\n",
    "6. [Кастомизация графиков](#customization)\n",
    "7. [Дополнительные упражнения](#exercises)\n",
    "8. [Заключение](#conclusion)\n"
   ]
  },
  {
   "cell_type": "markdown",
   "metadata": {},
   "source": [
    "# 1. Введение в Matplotlib <a name=\"intro\"></a>\n",
    "\n",
    "**Matplotlib** — это библиотека для создания статических, анимационных и интерактивных графиков в Python. Основной модуль библиотеки — `pyplot`.\n",
    "\n",
    "### Как установить?\n",
    "Если Matplotlib не установлен, выполните команду:\n",
    "```python\n",
    "!pip install matplotlib\n",
    "```\n",
    "\n",
    "### Как импортировать?\n",
    "Обычно Matplotlib импортируют следующим образом:\n",
    "```python\n",
    "import matplotlib.pyplot as plt\n",
    "```\n",
    "\n",
    "Теперь перейдём к практике!"
   ]
  },
  {
   "cell_type": "code",
   "metadata": {},
   "source": [
    "# Импортируем Matplotlib и другие полезные библиотеки\n",
    "import matplotlib.pyplot as plt\n",
    "import numpy as np\n",
    "\n",
    "# Убедимся, что графики отображаются прямо в Jupyter/Colab\n",
    "%matplotlib inline"
   ],
   "execution_count": null,
   "outputs": []
  },
  {
   "cell_type": "markdown",
   "metadata": {},
   "source": [
    "# 2. Линейный график <a name=\"line_plot\"></a>\n",
    "\n",
    "Линейный график используется для отображения данных, связанных с изменением одной переменной относительно другой (например, времени).\n",
    "\n",
    "### Построение простого линейного графика\n",
    "Давайте построим график функции $y = x^2$."
   ]
  },
  {
   "cell_type": "code",
   "metadata": {},
   "source": [
    "# Данные для графика\n",
    "x = np.linspace(-10, 10, 100)  # 100 точек от -10 до 10\n",
    "y = x ** 2\n",
    "\n",
    "# Построение графика\n",
    "plt.plot(x, y, label='y = x^2')\n",
    "plt.title('Пример линейного графика')  # Заголовок\n",
    "plt.xlabel('Значения x')               # Подпись оси X\n",
    "plt.ylabel('Значения y')               # Подпись оси Y\n",
    "plt.legend()                           # Легенда для графика\n",
    "plt.grid(True)                         # Включить сетку\n",
    "plt.show()"
   ],
   "execution_count": null,
   "outputs": []
  },
  {
   "cell_type": "markdown",
   "metadata": {},
   "source": [
    "### Упражнение 1\n",
    "1. Постройте график функции $y = \\sin(x)$ для значений $x$ от 0 до $2\\pi$.\n",
    "2. Добавьте заголовок, подписи осей и сетку."
   ]
  },
  {
   "cell_type": "code",
   "metadata": {},
   "source": [
    "# Ваш код здесь\n",
    "# Подсказка: используйте np.sin() и np.linspace() для создания данных\n"
   ],
   "execution_count": null,
   "outputs": []
  },
  {
   "cell_type": "markdown",
   "metadata": {},
   "source": [
    "# 3. Диаграмма рассеяния (Scatter Plot) <a name=\"scatter_plot\"></a>\n",
    "\n",
    "Диаграмма рассеяния используется для отображения взаимосвязей между двумя наборами данных. Каждая точка на графике представляет пару значений (x, y)."
   ]
  },
  {
   "cell_type": "code",
   "metadata": {},
   "source": [
    "# Случайные данные для примера\n",
    "np.random.seed(42)  # Фиксируем случайность\n",
    "x = np.random.rand(50)\n",
    "y = np.random.rand(50)\n",
    "sizes = np.random.rand(50) * 100  # Размер точек\n",
    "colors = np.random.rand(50)       # Цвет точек\n",
    "\n",
    "# Построение scatter plot\n",
    "plt.scatter(x, y, s=sizes, c=colors, alpha=0.7, cmap='viridis')\n",
    "plt.title('Диаграмма рассеяния')\n",
    "plt.xlabel('Значения X')\n",
    "plt.ylabel('Значения Y')\n",
    "plt.colorbar(label='Цвет точек')  # Добавляем шкалу цветов\n",
    "plt.show()"
   ],
   "execution_count": null,
   "outputs": []
  },
  {
   "cell_type": "markdown",
   "metadata": {},
   "source": [
    "### Упражнение 2\n",
    "Создайте диаграмму рассеяния для случайных данных с фиксированным цветом точек, но разными размерами. Добавьте подписи осей и заголовок."
   ]
  },
  {
   "cell_type": "code",
   "metadata": {},
   "source": [
    "# Ваш код здесь\n"
   ],
   "execution_count": null,
   "outputs": []
  },
  {
   "cell_type": "markdown",
   "metadata": {},
   "source": [
    "# 4. Столбиковая диаграмма и гистограмма <a name=\"bar_hist\"></a>\n",
    "\n",
    "## Столбиковая диаграмма (Bar Plot)\n",
    "Столбиковая диаграмма используется для отображения категориальных данных."
   ]
  },
  {
   "cell_type": "code",
   "metadata": {},
   "source": [
    "# Категории и значения\n",
    "categories = ['A', 'B', 'C', 'D']\n",
    "values = [15, 30, 45, 10]\n",
    "\n",
    "# Построение столбиковой диаграммы\n",
    "plt.bar(categories, values, color='skyblue')\n",
    "plt.title('Столбиковая диаграмма')\n",
    "plt.xlabel('Категории')\n",
    "plt.ylabel('Значения')\n",
    "plt.show()"
   ],
   "execution_count": null,
   "outputs": []
  },
  {
   "cell_type": "markdown",
   "metadata": {},
   "source": [
    "## Гистограмма (Histogram)\n",
    "Гистограмма используется для отображения распределения числовых данных."
   ]
  },
  {
   "cell_type": "code",
   "metadata": {},
   "source": [
    "# Генерация случайных данных\n",
    "data = np.random.randn(1000)  # 1000 точек из нормального распределения\n",
    "\n",
    "# Построение гистограммы\n",
    "plt.hist(data, bins=20, color='purple', edgecolor='black', alpha=0.7)\n",
    "plt.title('Гистограмма')\n",
    "plt.xlabel('Значение')\n",
    "plt.ylabel('Частота')\n",
    "plt.show()"
   ],
   "execution_count": null,
   "outputs": []
  },
  {
   "cell_type": "markdown",
   "metadata": {},
   "source": [
    "### Упражнение 3\n",
    "Создайте гистограмму для случайных данных с нормальным распределением, но измените количество корзин (`bins`) на 30. Добавьте подписи осей и заголовок."
   ]
  },
  {
   "cell_type": "code",
   "metadata": {},
   "source": [
    "# Ваш код здесь\n"
   ],
   "execution_count": null,
   "outputs": []
  },
  {
   "cell_type": "markdown",
   "metadata": {},
   "source": [
    "# 5. График с несколькими линиями <a name=\"multi_line\"></a>\n",
    "\n",
    "Вы можете добавлять несколько линий на один график для сравнения данных."
   ]
  },
  {
   "cell_type": "code",
   "metadata": {},
   "source": [
    "# Данные для двух линий\n",
    "x = np.linspace(0, 10, 100)\n",
    "y1 = np.sin(x)\n",
    "y2 = np.cos(x)\n",
    "\n",
    "# Построение графика с двумя линиями\n",
    "plt.plot(x, y1, label='sin(x)', color='blue')\n",
    "plt.plot(x, y2, label='cos(x)', color='orange')\n",
    "plt.title('Сравнение функций sin(x) и cos(x)')\n",
    "plt.xlabel('x')\n",
    "plt.ylabel('y')\n",
    "plt.legend()  # Отображаем легенду\n",
    "plt.grid(True)\n",
    "plt.show()"
   ],
   "execution_count": null,
   "outputs": []
  },
  {
   "cell_type": "markdown",
   "metadata": {},
   "source": [
    "### Упражнение 4\n",
    "Добавьте третью линию $y = x^2$ на график выше. Используйте зелёный цвет и пунктирную линию."
   ]
  },
  {
   "cell_type": "code",
   "metadata": {},
   "source": [
    "# Ваш код здесь\n"
   ],
   "execution_count": null,
   "outputs": []
  },
  {
   "cell_type": "markdown",
   "metadata": {},
   "source": [
    "# 6. Кастомизация графиков <a name=\"customization\"></a>\n",
    "\n",
    "Вы можете изменить стиль, цвета, размер шрифта и другие параметры графиков."
   ]
  },
  {
   "cell_type": "code",
   "metadata": {},
   "source": [
    "# Настройка стиля и размеров\n",
    "plt.style.use('ggplot')  # Устанавливаем стиль графика\n",
    "plt.figure(figsize=(8, 5))  # Устанавливаем размер графика\n",
    "\n",
    "# Построение графика\n",
    "x = np.linspace(0, 10, 100)\n",
    "y = np.sin(x)\n",
    "\n",
    "plt.plot(x, y, color='darkred', linestyle='--', linewidth=2, label='sin(x)')\n",
    "plt.title('Кастомизация графика', fontsize=16)\n",
    "plt.xlabel('x', fontsize=12)\n",
    "plt.ylabel('y', fontsize=12)\n",
    "plt.legend(fontsize=12)\n",
    "plt.show()"
   ],
   "execution_count": null,
   "outputs": []
  },
  {
   "cell_type": "markdown",
   "metadata": {},
   "source": [
    "### Упражнение 5\n",
    "Измените стиль графика на `'seaborn-darkgrid'`, добавьте заголовок большего размера и измените цвет линии на зелёный."
   ]
  },
  {
   "cell_type": "code",
   "metadata": {},
   "source": [
    "# Ваш код здесь\n"
   ],
   "execution_count": null,
   "outputs": []
  },
  {
   "cell_type": "markdown",
   "metadata": {},
   "source": [
    "# 7. Дополнительные упражнения <a name=\"exercises\"></a>\n",
    "\n",
    "1. Постройте столбиковую диаграмму для следующих данных: категории ['X', 'Y', 'Z'] и значений [10, 20, 15].\n",
    "2. Создайте гистограмму для случайных данных из нормального распределения (2000 точек) с 50 корзинами.\n",
    "3. Постройте линейный график для двух функций: $y = e^x$ и $y = \\log(x)$ (от 1 до 10).\n",
    "4. Настройте легенду, изменив её положение на «нижний правый угол» (`loc='lower right'`)."
   ]
  },
  {
   "cell_type": "markdown",
   "metadata": {},
   "source": [
    "# 8. Заключение <a name=\"conclusion\"></a>\n",
    "\n",
    "Поздравляем! Вы изучили основы библиотеки **Matplotlib** и научились:\n",
    "- Строить линейные графики, scatter plot, столбиковые диаграммы и гистограммы.\n",
    "- Настраивать внешний вид графиков (заголовки, оси, сетки, легенды).\n",
    "- Использовать стили и изменять параметры графиков.\n",
    "\n",
    "### Куда двигаться дальше?\n",
    "- Изучите библиотеку **Seaborn** для более продвинутой визуализации.\n",
    "- Изучите анимации в Matplotlib (модуль `animation`).\n",
    "- Попробуйте визуализировать данные из реальных датасетов (например, Titanic).\n",
    "\n",
    "Удачи в визуализации данных!"
   ]
  }
 ],
 "metadata": {
  "colab": {
   "name": "matplotlib_basics_lesson.ipynb",
   "provenance": []
  },
  "kernelspec": {
   "display_name": "Python 3",
   "language": "python",
   "name": "python3"
  },
  "language_info": {
   "name": "python",
   "version": "3.x"
  }
 },
 "nbformat": 4,
 "nbformat_minor": 1
}
