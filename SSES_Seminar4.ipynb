{
 "cells": [
  {
   "cell_type": "markdown",
   "metadata": {},
   "source": [
    "# Урок 4: Продвинутые возможности Matplotlib\n",
    "\n",
    "В этом уроке мы рассмотрим более сложные возможности библиотеки Matplotlib для визуализации данных. Используем датасет **Titanic** (или другой, доступный в открытых источниках).\n",
    "\n",
    "## Цели урока\n",
    "1. Освоить создание нескольких графиков на одном рисунке с помощью `subplot`.\n",
    "2. Научиться создавать **heatmap** для визуализации матриц данных.\n",
    "3. Использовать аннотации и текст для улучшения читаемости графиков.\n",
    "4. Создать более сложные визуализации (stacked bar, violin plot).\n",
    "\n",
    "## Содержание\n",
    "1. [Загрузка данных](#load_data)\n",
    "2. [Subplot: несколько графиков на одном рисунке](#subplot)\n",
    "3. [Heatmap: тепловая карта](#heatmap)\n",
    "4. [Stacked Bar Plot: сложенные столбики](#stacked_bar)\n",
    "5. [Violin Plot: распределение данных](#violin_plot)\n",
    "6. [Упражнения](#exercises)\n"
   ]
  },
  {
   "cell_type": "markdown",
   "metadata": {},
   "source": [
    "# 1. Загрузка данных <a name=\"load_data\"></a>\n",
    "\n",
    "Мы будем использовать датасет Titanic, который доступен в библиотеке **seaborn**. Если у вас есть локальный файл `titanic.csv`, его можно загрузить напрямую с помощью `pd.read_csv()`."
   ]
  },
  {
   "cell_type": "code",
   "execution_count": null,
   "metadata": {},
   "outputs": [],
   "source": [
    "import pandas as pd\n",
    "import matplotlib.pyplot as plt\n",
    "import seaborn as sns  # для более сложной визуализации\n",
    "import numpy as np\n",
    "\n",
    "# Загружаем Titanic dataset из seaborn\n",
    "df = sns.load_dataset('titanic')\n",
    "print(\"Размер датасета:\", df.shape)\n",
    "df.head()"
   ]
  },
  {
   "cell_type": "markdown",
   "metadata": {},
   "source": [
    "Посмотрим на основные статистики и информацию о данных:"
   ]
  },
  {
   "cell_type": "code",
   "execution_count": null,
   "metadata": {},
   "outputs": [],
   "source": [
    "df.info()\n",
    "\n",
    "df.describe(include='all')"
   ]
  },
  {
   "cell_type": "markdown",
   "metadata": {},
   "source": [
    "# 2. Subplot: несколько графиков на одном рисунке <a name=\"subplot\"></a>\n",
    "\n",
    "Создание нескольких графиков на одном рисунке (figure) полезно для сравнения различных визуализаций или аналитики разных аспектов данных.\n",
    "\n",
    "Рассмотрим пример: мы создадим линейный график, гистограмму и scatter plot на одном рисунке с использованием `plt.subplot()`."
   ]
  },
  {
   "cell_type": "code",
   "execution_count": null,
   "metadata": {},
   "outputs": [],
   "source": [
    "# Данные для графиков\n",
    "ages = df['age'].dropna()\n",
    "fare = df['fare'].dropna()\n",
    "\n",
    "# Создаём область для 3 графиков (1 строка, 3 столбца)\n",
    "plt.figure(figsize=(15, 5))\n",
    "\n",
    "# Линейный график (пример: возраст)\n",
    "plt.subplot(1, 3, 1)\n",
    "plt.plot(sorted(ages), label='Возраст', color='blue')\n",
    "plt.title('Линейный график возраста')\n",
    "plt.xlabel('Пассажиры')\n",
    "plt.ylabel('Возраст')\n",
    "plt.legend()\n",
    "\n",
    "# Гистограмма (распределение стоимости билетов)\n",
    "plt.subplot(1, 3, 2)\n",
    "plt.hist(fare, bins=20, color='green', edgecolor='black', alpha=0.7)\n",
    "plt.title('Распределение стоимости билетов')\n",
    "plt.xlabel('Стоимость билета')\n",
    "plt.ylabel('Частота')\n",
    "\n",
    "# Диаграмма рассеяния (возраст и стоимость билета)\n",
    "plt.subplot(1, 3, 3)\n",
    "plt.scatter(ages, fare[:len(ages)], color='purple', alpha=0.6)\n",
    "plt.title('Диаграмма рассеяния: возраст vs. билет')\n",
    "plt.xlabel('Возраст')\n",
    "plt.ylabel('Стоимость билета')\n",
    "\n",
    "# Отобразим все графики\n",
    "plt.tight_layout()\n",
    "plt.show()"
   ]
  },
  {
   "cell_type": "markdown",
   "metadata": {},
   "source": [
    "### Упражнение 1\n",
    "Создайте 2 строки и 2 столбца с 4 графиками:\n",
    "1. Линейный график возраста.\n",
    "2. Гистограмма количества родственников (sibsp).\n",
    "3. Scatter plot выживаемости (survived) vs. возраст.\n",
    "4. Box plot для распределения стоимости билетов."
   ]
  },
  {
   "cell_type": "code",
   "execution_count": null,
   "metadata": {},
   "outputs": [],
   "source": [
    "# Ваш код здесь"
   ]
  },
  {
   "cell_type": "markdown",
   "metadata": {},
   "source": [
    "# 3. Heatmap: тепловая карта <a name=\"heatmap\"></a>\n",
    "\n",
    "Тепловая карта — это способ визуализации матрицы данных. Рассмотрим пример корреляции между числовыми признаками в датасете Titanic."
   ]
  },
  {
   "cell_type": "code",
   "execution_count": null,
   "metadata": {},
   "outputs": [],
   "source": [
    "df['sex'] = df['sex'].map({'male': 0, 'female': 1})\n",
    "\n",
    "# Корреляционная матрица (включая преобразованный столбец 'sex')\n",
    "correlation_matrix = df.select_dtypes(include=['float64', 'int64']).corr()\n",
    "\n",
    "# Построение тепловой карты\n",
    "plt.figure(figsize=(10, 8))\n",
    "sns.heatmap(correlation_matrix, annot=True, fmt='.2f', cmap='coolwarm', linewidths=0.5)\n",
    "plt.title('Корреляционная матрица')\n",
    "plt.show()"
   ]
  },
  {
   "cell_type": "markdown",
   "metadata": {},
   "source": [
    "### Упражнение 2\n",
    "Создайте тепловую карту для любых других данных, например, для подмножества датасета с 4-5 числовыми признаками.\n",
    "- Укажите формат без десятичных (`fmt='d'`).\n",
    "- Измените цветовую схему (например, `cmap='viridis'`)."
   ]
  },
  {
   "cell_type": "code",
   "execution_count": null,
   "metadata": {},
   "outputs": [],
   "source": [
    "# Ваш код здесь"
   ]
  },
  {
   "cell_type": "markdown",
   "metadata": {},
   "source": [
    "# 4. Stacked Bar Plot: сложенные столбики <a name=\"stacked_bar\"></a>\n",
    "\n",
    "Создадим сложенную столбиковую диаграмму для визуализации количества выживших и погибших пассажиров в каждом классе билетов."
   ]
  },
  {
   "cell_type": "code",
   "execution_count": null,
   "metadata": {},
   "outputs": [],
   "source": [
    "# Группировка данных\n",
    "survived_by_class = df.groupby(['pclass', 'survived'])['survived'].count().unstack()\n",
    "\n",
    "# Построение сложенного столбикового графика\n",
    "survived_by_class.plot(kind='bar', stacked=True, figsize=(10, 6), color=['red', 'green'], edgecolor='black')\n",
    "plt.title('Количество выживших и погибших по классам')\n",
    "plt.xlabel('Класс билета')\n",
    "plt.ylabel('Количество пассажиров')\n",
    "plt.legend(['Погибшие', 'Выжившие'])\n",
    "plt.show()"
   ]
  },
  {
   "cell_type": "markdown",
   "metadata": {},
   "source": [
    "### Упражнение 3\n",
    "Создайте сложенную столбиковую диаграмму для отображения количества мужчин и женщин, разделённых по выживаемости (используйте столбцы `sex` и `survived`)."
   ]
  },
  {
   "cell_type": "code",
   "execution_count": null,
   "metadata": {},
   "outputs": [],
   "source": [
    "# Ваш код здесь"
   ]
  },
  {
   "cell_type": "markdown",
   "metadata": {},
   "source": [
    "# 5. Violin Plot: распределение данных <a name=\"violin_plot\"></a>\n",
    "\n",
    "Violin plot используется для отображения распределения числовых данных по категориям. Построим его для возраста пассажиров, разделённых по полу."
   ]
  },
  {
   "cell_type": "code",
   "execution_count": null,
   "metadata": {},
   "outputs": [],
   "source": [
    "# Violin plot\n",
    "plt.figure(figsize=(8, 6))\n",
    "sns.violinplot(x='sex', y='age', data=df, split=True, palette='muted')\n",
    "plt.title('Распределение возраста по полу')\n",
    "plt.xlabel('Пол')\n",
    "plt.ylabel('Возраст')\n",
    "plt.show()"
   ]
  },
  {
   "cell_type": "markdown",
   "metadata": {},
   "source": [
    "### Упражнение 4\n",
    "Создайте violin plot для распределения стоимости билетов (`fare`) в зависимости от порта посадки (`embarked`)."
   ]
  },
  {
   "cell_type": "code",
   "execution_count": null,
   "metadata": {},
   "outputs": [],
   "source": [
    "# Ваш код здесь"
   ]
  },
  {
   "cell_type": "markdown",
   "metadata": {},
   "source": [
    "# 6. Упражнения <a name=\"exercises\"></a>\n",
    "\n",
    "1. Постройте scatter plot зависимости возраста и стоимости билета, разделив точки по полу (`hue='sex'`).\n",
    "2. Создайте тепловую карту, показывающую пропуски (`df.isnull()`) в датасете Titanic.\n",
    "3. Постройте boxplot, показывающий распределение возраста по классам билетов (`pclass`).\n",
    "4. Создайте график, который показывает выживаемость пассажиров по портам посадки (stacked bar plot).\n",
    "\n",
    "Удачи!"
   ]
  }
 ],
 "metadata": {
  "colab": {
   "name": "advanced_matplotlib_lesson.ipynb",
   "provenance": []
  },
  "kernelspec": {
   "display_name": "Python 3",
   "language": "python",
   "name": "python3"
  },
  "language_info": {
   "name": "python",
   "version": "3.x"
  }
 },
 "nbformat": 4,
 "nbformat_minor": 1
}
